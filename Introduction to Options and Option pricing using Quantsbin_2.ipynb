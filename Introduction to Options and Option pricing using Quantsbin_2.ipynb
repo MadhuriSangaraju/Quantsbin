{
 "cells": [
  {
   "cell_type": "markdown",
   "metadata": {},
   "source": [
    "# Introduction to Options and Option pricing using \"quantsbin\" library"
   ]
  },
  {
   "cell_type": "markdown",
   "metadata": {},
   "source": [
    "## PART 2"
   ]
  },
  {
   "cell_type": "markdown",
   "metadata": {},
   "source": [
    "In this part of the tutorial we will explore below topics:\n",
    "    1. Equity Option valuation.\n",
    "        i. European and American Option.\n",
    "        ii. Dividend - yield and discrete amount\n",
    "    2. FX Option valuation.\n",
    "        i. Local and Foriegn interest rate.\n",
    "    3. Commodity options.\n",
    "        i. Cost and Convinience yields.\n",
    "    4. Options on Futures.\n",
    "    5. Calculating Numerical greeks\n",
    "    6. PnL attribution calculation"
   ]
  },
  {
   "cell_type": "markdown",
   "metadata": {},
   "source": [
    "\n",
    "\n",
    "Import **Quantsbin** the Derivative pricing module and assign qbdp as alias to it."
   ]
  },
  {
   "cell_type": "code",
   "execution_count": 1,
   "metadata": {},
   "outputs": [],
   "source": [
    "import quantsbin.derivativepricing as qbdp"
   ]
  },
  {
   "cell_type": "markdown",
   "metadata": {},
   "source": [
    "### Defining Option Objects"
   ]
  },
  {
   "cell_type": "markdown",
   "metadata": {},
   "source": [
    "As discussed in Part 1 of tutorial, in current release **Quantsbin** provide options to define under four asset classes.\n",
    "Options on:\n",
    "    1. Equity: qbdp.EqOption\n",
    "    2. Futures: qbdp.FutOption\n",
    "    3. Currencies: qbdp.FXOption\n",
    "    4. Commodities: qbdp.ComOption\n",
    "    \n",
    " Let's check doc string to get more information about Option objects."
   ]
  },
  {
   "cell_type": "code",
   "execution_count": 2,
   "metadata": {},
   "outputs": [
    {
     "name": "stdout",
     "output_type": "stream",
     "text": [
      "\n",
      "    Defines object for vanilla options on equity with both European and American expiry type.\n",
      "\n",
      "    Args required:\n",
      "            option_type: 'Call' or 'Put' (default value is set to 'Call')\n",
      "            expiry_type: 'European' or 'American' (default is set to 'European')\n",
      "            strike: (Float in same unit as underlying price) e.g. 110.0\n",
      "            expiry_date: (Date in string format \"YYYYMMDD\") e.g. 10 Dec 2018 as \"20181210\"\n",
      "            derivative_type: Default value as \"Vanilla Option\".\n",
      "    \n"
     ]
    }
   ],
   "source": [
    "print(qbdp.EqOption.__doc__)"
   ]
  },
  {
   "cell_type": "markdown",
   "metadata": {},
   "source": [
    "Starting with Equity Options:\n",
    "\n",
    "### 1. Equity Option Valuation \n",
    "\n",
    "Defining Equity Put options with 'European' and 'American' expiry"
   ]
  },
  {
   "cell_type": "code",
   "execution_count": 3,
   "metadata": {},
   "outputs": [],
   "source": [
    "equity_p1 = qbdp.EqOption(option_type='Put', strike=50, expiry_date='20190721', expiry_type='European')\n",
    "equity_p2 = qbdp.EqOption(option_type='Put', strike=50, expiry_date='20190721', expiry_type='American')"
   ]
  },
  {
   "cell_type": "markdown",
   "metadata": {},
   "source": [
    "**Payoff calculation:**"
   ]
  },
  {
   "cell_type": "code",
   "execution_count": 4,
   "metadata": {},
   "outputs": [
    {
     "name": "stdout",
     "output_type": "stream",
     "text": [
      "equity_p1 payoff for Spot at 45 is 5\n",
      "equity_p2 payoff for Spot at 45 is 5\n"
     ]
    }
   ],
   "source": [
    "print(\"equity_p1 payoff for Spot at 45 is {}\".format(equity_p1.payoff(45)))\n",
    "print(\"equity_p2 payoff for Spot at 45 is {}\".format(equity_p2.payoff(45)))"
   ]
  },
  {
   "cell_type": "markdown",
   "metadata": {},
   "source": [
    "**Models available**"
   ]
  },
  {
   "cell_type": "markdown",
   "metadata": {},
   "source": [
    "Let's check what all models are available for valuation of two options."
   ]
  },
  {
   "cell_type": "code",
   "execution_count": 5,
   "metadata": {},
   "outputs": [
    {
     "name": "stdout",
     "output_type": "stream",
     "text": [
      "Models available for equity_p1 are BSM, MC_GBM, Binomial\n",
      "Models available for equity_p2 are MC_GBM, Binomial\n"
     ]
    }
   ],
   "source": [
    "print(\"Models available for equity_p1 are {}\".format(equity_p1.list_models()))\n",
    "print(\"Models available for equity_p2 are {}\".format(equity_p2.list_models()))"
   ]
  },
  {
   "cell_type": "markdown",
   "metadata": {},
   "source": [
    "We can observe we don't have BlackScholesMerton(BSM) model available for American expiry option.\n",
    "Note* For American Option MonteCarlo model used is LongStaff Schwartz model.\n",
    "\n",
    "\n",
    "**Defining Engine**\n",
    "\n",
    "Start with checking doc string for Equity option engine method. It provides complete list of parameters which could be passed to engine method"
   ]
  },
  {
   "cell_type": "code",
   "execution_count": 6,
   "metadata": {},
   "outputs": [
    {
     "name": "stdout",
     "output_type": "stream",
     "text": [
      "\n",
      "        Binds pricing model class and market data to the object\n",
      "            Args required:\n",
      "                Core Arguments:\n",
      "                    model: pricing model (default value set to BSM for European expiry)\n",
      "                           To check available list of models use print(option_object.list_models())\n",
      "                    fwd0: (float) current underlying price/value e.g. 110.0\n",
      "                    rf_rate: (Float < 1) risk free continuously compounded discount rate e.g. 5% as 0.05\n",
      "                    volatility: (Float < 1) Underlying price/value return annualized volatility.\n",
      "                                Volatility in decimal e.g. Volatility of 10% => 0.10\n",
      "                    pricing_Date: Date on which option value need to be calculated.\n",
      "                                  (Date in string format \"YYYYMMDD\") e.g. 10 Dec 2018 as \"20181210\".\n",
      "                    yield_div: (Float < 1) div yield continuously compounded (for index options) e.g. 5% as 0.05\n",
      "                    div_list: List of tuples for discrete dividends with dates. e.g. [(\"20180610\", 2), (\"20180624\", 4)]\n",
      "                              [(\"Date\", div amount),...]\n",
      "                Model specific arguments:\n",
      "                    MonteCarlo\n",
      "                        no_of_path = (Integer). Number of paths to be generated for simulation e.g. 10000\n",
      "                        no_of_steps = (Integer). Number of steps(nodes) for the premium calculation e.g. 100\n",
      "                        seed = (Integer). Used for seeding\n",
      "                        antithetic = (Boolean). A variance reduction process in Montecarlo Simulation.\n",
      "                                     Default False\n",
      "                    Binomial\n",
      "                        no_of_steps = (Integer). Number of steps (nodes) for the premium calculation.\n",
      "                                       Maximum value accepted is 100. This limit will be increased\n",
      "                                       in future release.\n",
      "                \n"
     ]
    }
   ],
   "source": [
    "print(equity_p1.engine.__doc__)"
   ]
  },
  {
   "cell_type": "markdown",
   "metadata": {},
   "source": [
    "Two interesting parameters here are \n",
    "1. yield_div - Continuously compunded dividend yield for Options on index\n",
    "2. div_list - To give discrete dividend list as input for Option on single stocks or ETFs\n",
    "\n",
    "We will start by looking at Options on index and pass market as well as Model paramters to above defined options.\n",
    "We will be using BSM model for European Option and Binomial for American Option.\n",
    "\n",
    "** Options on Index **"
   ]
  },
  {
   "cell_type": "code",
   "execution_count": 7,
   "metadata": {},
   "outputs": [],
   "source": [
    "market1_parameters = {'spot0': 45\n",
    "                     , 'pricing_date':'20180121'\n",
    "                     , 'volatility':.25\n",
    "                     , 'rf_rate':.05\n",
    "                     , 'yield_div':0.02}\n",
    "\n",
    "eq1_BSM_market1 = equity_p1.engine(model=\"BSM\", **market1_parameters)\n",
    "eq1_market1 = equity_p1.engine(model=\"Binomial\", **market1_parameters)\n",
    "eq2_market1 = equity_p2.engine(model=\"Binomial\", **market1_parameters)"
   ]
  },
  {
   "cell_type": "markdown",
   "metadata": {},
   "source": [
    "Start with comparing valuations."
   ]
  },
  {
   "cell_type": "code",
   "execution_count": 8,
   "metadata": {},
   "outputs": [
    {
     "name": "stdout",
     "output_type": "stream",
     "text": [
      "Value of eq1 under market 1 with BSM model is 6.939586499057242\n",
      "Value of eq1 under market 1 with Binomial model is 6.946369519179399\n",
      "Value of eq2 under market 1 with Binomial model is 7.444393326701226\n"
     ]
    }
   ],
   "source": [
    "print(\"Value of eq1 under market 1 with BSM model is {}\".format(eq1_BSM_market1.valuation()))\n",
    "print(\"Value of eq1 under market 1 with Binomial model is {}\".format(eq1_market1.valuation()))\n",
    "print(\"Value of eq2 under market 1 with Binomial model is {}\".format(eq2_market1.valuation()))"
   ]
  },
  {
   "cell_type": "markdown",
   "metadata": {},
   "source": [
    "As expected valuation of American Option is greater than European Option when we use Binomial method for both the options where as value of European option as calculated using BSM and Binomial is close."
   ]
  },
  {
   "cell_type": "code",
   "execution_count": 9,
   "metadata": {},
   "outputs": [
    {
     "data": {
      "image/png": "[encoded data removed]",
      "text/plain": [
       "<Figure size 432x288 with 1 Axes>"
      ]
     },
     "metadata": {},
     "output_type": "display_data"
    }
   ],
   "source": [
    "eq1_payoff = qbdp.Plotting(equity_p1, 'payoff', x_axis_range=[25,75]).line_plot()\n",
    "eq1_val = qbdp.Plotting(eq1_BSM_market1, 'valuation', x_axis_range=[25,75]).line_plot()\n",
    "eq2_val = qbdp.Plotting(eq2_market1, 'valuation', x_axis_range=[25,75]).line_plot()\n",
    "eq2_val.show()"
   ]
  },
  {
   "cell_type": "markdown",
   "metadata": {},
   "source": [
    "Blue line is for European Put, Purple line is for American Put, and Red line is for Payoff"
   ]
  },
  {
   "cell_type": "markdown",
   "metadata": {},
   "source": [
    "Now we will see how to add Discrete known dividend to market parameters."
   ]
  },
  {
   "cell_type": "markdown",
   "metadata": {},
   "source": [
    "**Discrete Dividend**\n",
    "\n",
    "Add discrete dividend to market parameter using div_list parameter and price option using MC_GBM"
   ]
  },
  {
   "cell_type": "code",
   "execution_count": 10,
   "metadata": {},
   "outputs": [
    {
     "name": "stdout",
     "output_type": "stream",
     "text": [
      "Value of eq1 under market 1 with MC is 9.233941316501841\n"
     ]
    }
   ],
   "source": [
    "market2_parameters = {'spot0': 46\n",
    "                     , 'pricing_date':'20180121'\n",
    "                     , 'volatility':.25\n",
    "                     , 'rf_rate':.05\n",
    "                     , 'div_list':[(\"20180610\", 2), (\"20181224\", 4)]}\n",
    "\n",
    "eq1_market2 = equity_p1.engine(model=\"MC_GBM\", **market2_parameters, no_of_path=100000, antithetic=True, seed=420)\n",
    "print(\"Value of eq1 under market 1 with MC is {}\".format(eq1_market2.valuation()))"
   ]
  },
  {
   "cell_type": "markdown",
   "metadata": {},
   "source": [
    "### FX Options\n",
    "\n",
    "We will quickly cover an example of FX option wherein risk free rate and dividend yield are replaced by risk free rate for local currency and risk free rate for foriegn currency.\n",
    "\n",
    "Let's start with defining an option and printing list of models available."
   ]
  },
  {
   "cell_type": "code",
   "execution_count": 11,
   "metadata": {},
   "outputs": [
    {
     "name": "stdout",
     "output_type": "stream",
     "text": [
      "Models available for fx_p1 are GK, MC_GBM, Binomial\n"
     ]
    }
   ],
   "source": [
    "fx_p1 = qbdp.FXOption(option_type='Put', strike=50, expiry_date='20190721', expiry_type='European')\n",
    "print(\"Models available for fx_p1 are {}\".format(fx_p1.list_models()))"
   ]
  },
  {
   "cell_type": "markdown",
   "metadata": {},
   "source": [
    "GK(Garman–Kohlhagen) model uses BlackScholes framework to price FX options. Lets price FX option."
   ]
  },
  {
   "cell_type": "code",
   "execution_count": 12,
   "metadata": {},
   "outputs": [
    {
     "name": "stdout",
     "output_type": "stream",
     "text": [
      "Value of fx1 under market 1 with GK model is 6.939586499057242\n"
     ]
    }
   ],
   "source": [
    "market1_parameters = {'spot0': 45\n",
    "                     , 'pricing_date':'20180121'\n",
    "                     , 'volatility':.25\n",
    "                     , 'rf_rate_local':.05\n",
    "                     , 'rf_rate_foreign':.02}\n",
    "\n",
    "fx1_market1 = fx_p1.engine(model=\"GK\", **market1_parameters)\n",
    "print(\"Value of fx1 under market 1 with GK model is {}\".format(fx1_market1.valuation()))"
   ]
  },
  {
   "cell_type": "markdown",
   "metadata": {},
   "source": [
    "### Commodities Options\n",
    "\n",
    "Commodities options could also be prices using Quantsbin similar to FX options.\n",
    "In commodities options we have option to add continuously compounded cost yield and convinience yield."
   ]
  },
  {
   "cell_type": "code",
   "execution_count": 13,
   "metadata": {},
   "outputs": [
    {
     "name": "stdout",
     "output_type": "stream",
     "text": [
      "Models available for com_p1 are GK, MC_GBM, Binomial\n"
     ]
    }
   ],
   "source": [
    "com_p1 = qbdp.ComOption(option_type='Put', strike=50, expiry_date='20190721', expiry_type='European')\n",
    "print(\"Models available for com_p1 are {}\".format(fx_p1.list_models()))"
   ]
  },
  {
   "cell_type": "code",
   "execution_count": 14,
   "metadata": {},
   "outputs": [
    {
     "name": "stdout",
     "output_type": "stream",
     "text": [
      "Value of com_p1 under market 1 with GK model is 5.960472559488654\n"
     ]
    }
   ],
   "source": [
    "market1_parameters = {'spot0': 45\n",
    "                     , 'pricing_date':'20180121'\n",
    "                     , 'volatility':.25\n",
    "                     , 'rf_rate':.05\n",
    "                     , 'cnv_yield':0.02\n",
    "                     , 'cost_yield':0.03}\n",
    "\n",
    "com1_market1 = com_p1.engine(model=\"GK\", **market1_parameters)\n",
    "print(\"Value of com_p1 under market 1 with GK model is {}\".format(com1_market1.valuation()))"
   ]
  },
  {
   "cell_type": "markdown",
   "metadata": {},
   "source": [
    "### Futures Options\n",
    "\n",
    "In similar lines we can define options on futures."
   ]
  },
  {
   "cell_type": "code",
   "execution_count": 15,
   "metadata": {},
   "outputs": [
    {
     "name": "stdout",
     "output_type": "stream",
     "text": [
      "Models available for com_p1 are B76, MC_GBM, Binomial\n"
     ]
    }
   ],
   "source": [
    "fut_p1 = qbdp.FutOption(option_type='Put', strike=50, expiry_date='20190721', expiry_type='European')\n",
    "print(\"Models available for com_p1 are {}\".format(fut_p1.list_models()))"
   ]
  },
  {
   "cell_type": "markdown",
   "metadata": {},
   "source": [
    "In case of options on futures we have Black 76 form BlackScholes framework along with Monte Carlo stimulation and Binomial method."
   ]
  },
  {
   "cell_type": "code",
   "execution_count": 16,
   "metadata": {},
   "outputs": [
    {
     "name": "stdout",
     "output_type": "stream",
     "text": [
      "Value of com_p1 under market 1 with B76 model is 7.987642268808962\n"
     ]
    }
   ],
   "source": [
    "market1_parameters = {'fwd0': 45\n",
    "                     , 'pricing_date':'20180121'\n",
    "                     , 'volatility':.25\n",
    "                     , 'rf_rate':.05\n",
    "                     }\n",
    "fut1_market1 = fut_p1.engine(model=\"B76\", **market1_parameters)\n",
    "print(\"Value of com_p1 under market 1 with B76 model is {}\".format(fut1_market1.valuation()))"
   ]
  },
  {
   "cell_type": "markdown",
   "metadata": {},
   "source": [
    "With this we have seen how to define options and valuate them in different asset classes.\n",
    "In next section we will see other important functionalities provided Quantsbin:\n",
    "1. Numerical Greek Calculation: Greek calculations by method of full valuation.\n",
    "2. PnL attribution\n",
    "\n",
    "### Numerical Greeks\n",
    "\n",
    "We will calculate numerical greeks for Equity Option.\n",
    "In Numerical greek calculation, Quantsbin provide us with option to define percentage by which we want to bump each parameter."
   ]
  },
  {
   "cell_type": "code",
   "execution_count": 17,
   "metadata": {},
   "outputs": [
    {
     "name": "stdout",
     "output_type": "stream",
     "text": [
      "----Numerical Risk Parameters----\n",
      "{'delta': -0.50281326794859904, 'gamma': 0.028091779031930969, 'theta': -0.0020678880876818795, 'vega': 21.283276393791652, 'rho': -44.217003870260875}\n",
      "----Analytical Risk Parameters----\n",
      "{'delta': 0.51791732590176853, 'gamma': 0.02811099474422615, 'theta': -0.0020639439442300834, 'vega': 21.288302286954551, 'rho': -44.2169058106834, 'phi': 34.863640266866994}\n"
     ]
    }
   ],
   "source": [
    "equity_p1 = qbdp.EqOption(option_type='Put', strike=50, expiry_date='20190721', expiry_type='European')\n",
    "market1_parameters = {'spot0': 45\n",
    "                     , 'pricing_date':'20180121'\n",
    "                     , 'volatility':.25\n",
    "                     , 'rf_rate':.05\n",
    "                     , 'yield_div':0.02}\n",
    "\n",
    "eq1_BSM_market1 = equity_p1.engine(model=\"BSM\", **market1_parameters)\n",
    "print(\"----Numerical Risk Parameters----\")\n",
    "print(eq1_BSM_market1.risk_parameters_num(delta_spot=.03, delta_time=2, delta_rf_rate=.03, delta_vol=.1))\n",
    "print(\"----Analytical Risk Parameters----\")\n",
    "print(eq1_BSM_market1.risk_parameters())"
   ]
  },
  {
   "cell_type": "markdown",
   "metadata": {},
   "source": [
    "### PnL Attribution\n",
    "\n",
    "PnL attribution allows us to attribute change in option price to each of the underlying parameter.\n",
    "We start by defining option and then call PnL Attribution method along with movement in market paramters in percentage terms."
   ]
  },
  {
   "cell_type": "code",
   "execution_count": 18,
   "metadata": {},
   "outputs": [
    {
     "data": {
      "text/plain": [
       "{'spot0': -0.65319927808776157,\n",
       " '_pricing_date': -0.004135776175363759,\n",
       " 'volatility': 0.53251153820120578,\n",
       " 'rf_rate': -0.066107792410942778,\n",
       " 'cnv_yield': 0,\n",
       " 'cost_yield': 0}"
      ]
     },
     "execution_count": 18,
     "metadata": {},
     "output_type": "execute_result"
    }
   ],
   "source": [
    "eq1_BSM_market1.pnl_attribution(delta_spot=.03, delta_time=2, delta_rf_rate=.03, delta_vol=.1)"
   ]
  }
 ],
 "metadata": {
  "kernelspec": {
   "display_name": "Python 3",
   "language": "python",
   "name": "python3"
  },
  "language_info": {
   "codemirror_mode": {
    "name": "ipython",
    "version": 3
   },
   "file_extension": ".py",
   "mimetype": "text/x-python",
   "name": "python",
   "nbconvert_exporter": "python",
   "pygments_lexer": "ipython3",
   "version": "3.6.4"
  }
 },
 "nbformat": 4,
 "nbformat_minor": 2
}
